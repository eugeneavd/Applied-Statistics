{
 "cells": [
  {
   "cell_type": "code",
   "execution_count": 1,
   "metadata": {},
   "outputs": [],
   "source": [
    "import numpy as np\n",
    "import scipy\n",
    "import scipy.stats\n",
    "import pandas as pd\n",
    "import matplotlib.pyplot as plt\n",
    "\n",
    "prop_cycle = plt.rcParams['axes.prop_cycle']\n",
    "colors = prop_cycle.by_key()['color']"
   ]
  },
  {
   "cell_type": "markdown",
   "metadata": {},
   "source": [
    "# Homework 2\n",
    "## Hypothesis testing"
   ]
  },
  {
   "cell_type": "markdown",
   "metadata": {},
   "source": [
    "Each task is worth 5 points, 20 points in total. Additionally, some tasks allow you to get a bonus point, that **can not** increase your total score for the homework beyond the maximum, but can compensate for some occasionally lost points."
   ]
  },
  {
   "cell_type": "markdown",
   "metadata": {},
   "source": [
    "### Task 1: multiple comparisons"
   ]
  },
  {
   "cell_type": "markdown",
   "metadata": {},
   "source": [
    "A randomized, double-blind experiment was conducted to assess the\n",
    "effectiveness of several drugs for reducing postoperative nausea. The\n",
    "data are as follows:"
   ]
  },
  {
   "cell_type": "code",
   "execution_count": 2,
   "metadata": {},
   "outputs": [
    {
     "data": {
      "text/html": [
       "<div>\n",
       "<style scoped>\n",
       "    .dataframe tbody tr th:only-of-type {\n",
       "        vertical-align: middle;\n",
       "    }\n",
       "\n",
       "    .dataframe tbody tr th {\n",
       "        vertical-align: top;\n",
       "    }\n",
       "\n",
       "    .dataframe thead th {\n",
       "        text-align: right;\n",
       "    }\n",
       "</style>\n",
       "<table border=\"1\" class=\"dataframe\">\n",
       "  <thead>\n",
       "    <tr style=\"text-align: right;\">\n",
       "      <th></th>\n",
       "      <th>Drug</th>\n",
       "      <th>Number of Patients</th>\n",
       "      <th>Incidence of Nausea</th>\n",
       "    </tr>\n",
       "  </thead>\n",
       "  <tbody>\n",
       "    <tr>\n",
       "      <th>0</th>\n",
       "      <td>Placebo</td>\n",
       "      <td>80</td>\n",
       "      <td>45</td>\n",
       "    </tr>\n",
       "    <tr>\n",
       "      <th>1</th>\n",
       "      <td>Chlorpromazine</td>\n",
       "      <td>75</td>\n",
       "      <td>26</td>\n",
       "    </tr>\n",
       "    <tr>\n",
       "      <th>2</th>\n",
       "      <td>Dimenhydrinate</td>\n",
       "      <td>85</td>\n",
       "      <td>52</td>\n",
       "    </tr>\n",
       "    <tr>\n",
       "      <th>3</th>\n",
       "      <td>Pentobarbital (100 mg)</td>\n",
       "      <td>67</td>\n",
       "      <td>35</td>\n",
       "    </tr>\n",
       "    <tr>\n",
       "      <th>4</th>\n",
       "      <td>Pentobarbital (150 mg)</td>\n",
       "      <td>85</td>\n",
       "      <td>37</td>\n",
       "    </tr>\n",
       "  </tbody>\n",
       "</table>\n",
       "</div>"
      ],
      "text/plain": [
       "                     Drug  Number of Patients  Incidence of Nausea\n",
       "0                 Placebo                  80                   45\n",
       "1          Chlorpromazine                  75                   26\n",
       "2          Dimenhydrinate                  85                   52\n",
       "3  Pentobarbital (100 mg)                  67                   35\n",
       "4  Pentobarbital (150 mg)                  85                   37"
      ]
     },
     "execution_count": 2,
     "metadata": {},
     "output_type": "execute_result"
    }
   ],
   "source": [
    "df1 = pd.DataFrame({'Drug': ['Placebo', 'Chlorpromazine', 'Dimenhydrinate', 'Pentobarbital (100 mg)', 'Pentobarbital (150 mg)'],\n",
    "                    'Number of Patients': [80, 75, 85, 67, 85],\n",
    "                    'Incidence of Nausea': [45, 26, 52, 35, 37]})\n",
    "df1"
   ]
  },
  {
   "cell_type": "markdown",
   "metadata": {},
   "source": [
    "1. Test each drug versus the placebo at the 5% level. Also, report\n",
    "the estimated odds–ratios. Summarize your findings. (2 points)\n",
    "2. Use the Bonferroni and the FDR method to adjust for multiple\n",
    "testing. (Beecher (1959)) (3 points)\n",
    "3. Reproduce plot similar to Figure 10.6 from the book, displaying observed $p$-values and different thresholds used (1 bonus point)\n",
    "\n",
    "*Hint*. Use simple $H_0$: \"$p_{drug} = p_{placebo}$\"."
   ]
  },
  {
   "cell_type": "markdown",
   "metadata": {},
   "source": [
    "1."
   ]
  },
  {
   "cell_type": "code",
   "execution_count": 3,
   "metadata": {},
   "outputs": [
    {
     "data": {
      "text/html": [
       "<div>\n",
       "<style scoped>\n",
       "    .dataframe tbody tr th:only-of-type {\n",
       "        vertical-align: middle;\n",
       "    }\n",
       "\n",
       "    .dataframe tbody tr th {\n",
       "        vertical-align: top;\n",
       "    }\n",
       "\n",
       "    .dataframe thead th {\n",
       "        text-align: right;\n",
       "    }\n",
       "</style>\n",
       "<table border=\"1\" class=\"dataframe\">\n",
       "  <thead>\n",
       "    <tr style=\"text-align: right;\">\n",
       "      <th></th>\n",
       "      <th>Drug</th>\n",
       "      <th>p-value</th>\n",
       "      <th>odds ratio</th>\n",
       "      <th>reject</th>\n",
       "    </tr>\n",
       "  </thead>\n",
       "  <tbody>\n",
       "    <tr>\n",
       "      <th>1</th>\n",
       "      <td>Chlorpromazine</td>\n",
       "      <td>0.005703</td>\n",
       "      <td>0.616296</td>\n",
       "      <td>True</td>\n",
       "    </tr>\n",
       "    <tr>\n",
       "      <th>2</th>\n",
       "      <td>Dimenhydrinate</td>\n",
       "      <td>0.520232</td>\n",
       "      <td>1.087582</td>\n",
       "      <td>False</td>\n",
       "    </tr>\n",
       "    <tr>\n",
       "      <th>3</th>\n",
       "      <td>Pentobarbital (100 mg)</td>\n",
       "      <td>0.626664</td>\n",
       "      <td>0.928690</td>\n",
       "      <td>False</td>\n",
       "    </tr>\n",
       "    <tr>\n",
       "      <th>4</th>\n",
       "      <td>Pentobarbital (150 mg)</td>\n",
       "      <td>0.099639</td>\n",
       "      <td>0.773856</td>\n",
       "      <td>False</td>\n",
       "    </tr>\n",
       "  </tbody>\n",
       "</table>\n",
       "</div>"
      ],
      "text/plain": [
       "                     Drug   p-value  odds ratio  reject\n",
       "1          Chlorpromazine  0.005703    0.616296    True\n",
       "2          Dimenhydrinate  0.520232    1.087582   False\n",
       "3  Pentobarbital (100 mg)  0.626664    0.928690   False\n",
       "4  Pentobarbital (150 mg)  0.099639    0.773856   False"
      ]
     },
     "execution_count": 3,
     "metadata": {},
     "output_type": "execute_result"
    }
   ],
   "source": [
    "import scipy.stats as sst\n",
    "alpha = 0.05\n",
    "z = sst.norm.ppf(1 - alpha/2)\n",
    "\n",
    "def wald_test_for_means(sample1, sample2, estimate=0, return_confint=False):\n",
    "    mean = np.mean(sample1) - np.mean(sample2) - estimate\n",
    "    se = np.sqrt(np.var(sample1) / len(sample1) + np.var(sample2) / len(sample2))\n",
    "    statistic = np.abs(mean / se)\n",
    "    pvalue = 2 * sst.norm.cdf(-np.abs(statistic))\n",
    "    if not return_confint:\n",
    "        return statistic, pvalue\n",
    "    else:\n",
    "        l = mean - z * se\n",
    "        r = mean + z * se\n",
    "        return statistic, pvalue, (l, r)\n",
    "\n",
    "def drug_sample(name):\n",
    "    n, a = df1[df1['Drug'] == name].values.T[1:]\n",
    "    return np.concatenate([np.ones(a, dtype='int'), np.zeros(n - a, dtype='int')])\n",
    "\n",
    "drug_names = df1['Drug'][1:]\n",
    "p_vals = list()\n",
    "odds = list()\n",
    "rejects = list()\n",
    "for drug_name in drug_names:\n",
    "    odds_ratio = drug_sample(drug_name).mean() / drug_sample('Placebo').mean()\n",
    "    stat, p_val = wald_test_for_means(drug_sample('Placebo'), drug_sample(drug_name))\n",
    "    odds.append(odds_ratio)\n",
    "    p_vals.append(p_val)\n",
    "    rejects.append(p_val <= 0.05)\n",
    "\n",
    "pd.DataFrame({'Drug': drug_names, 'p-value': p_vals, 'odds ratio': odds, 'reject': rejects})"
   ]
  },
  {
   "cell_type": "markdown",
   "metadata": {},
   "source": [
    "$H_0$ is confirmed at 5\\% for all drugs except for chlorpromazine. It accords with the fact that odds ratio for chlorpromazine is the furthest from 1."
   ]
  },
  {
   "cell_type": "markdown",
   "metadata": {},
   "source": [
    "2."
   ]
  },
  {
   "cell_type": "code",
   "execution_count": 4,
   "metadata": {},
   "outputs": [
    {
     "data": {
      "text/html": [
       "<div>\n",
       "<style scoped>\n",
       "    .dataframe tbody tr th:only-of-type {\n",
       "        vertical-align: middle;\n",
       "    }\n",
       "\n",
       "    .dataframe tbody tr th {\n",
       "        vertical-align: top;\n",
       "    }\n",
       "\n",
       "    .dataframe thead tr th {\n",
       "        text-align: left;\n",
       "    }\n",
       "</style>\n",
       "<table border=\"1\" class=\"dataframe\">\n",
       "  <thead>\n",
       "    <tr>\n",
       "      <th></th>\n",
       "      <th colspan=\"2\" halign=\"left\">Bonferroni</th>\n",
       "      <th colspan=\"2\" halign=\"left\">FDR</th>\n",
       "    </tr>\n",
       "    <tr>\n",
       "      <th></th>\n",
       "      <th>reject</th>\n",
       "      <th>p-value</th>\n",
       "      <th>reject</th>\n",
       "      <th>p-value</th>\n",
       "    </tr>\n",
       "  </thead>\n",
       "  <tbody>\n",
       "    <tr>\n",
       "      <th>0</th>\n",
       "      <td>True</td>\n",
       "      <td>0.022814</td>\n",
       "      <td>True</td>\n",
       "      <td>0.022814</td>\n",
       "    </tr>\n",
       "    <tr>\n",
       "      <th>1</th>\n",
       "      <td>False</td>\n",
       "      <td>1.000000</td>\n",
       "      <td>False</td>\n",
       "      <td>0.626664</td>\n",
       "    </tr>\n",
       "    <tr>\n",
       "      <th>2</th>\n",
       "      <td>False</td>\n",
       "      <td>1.000000</td>\n",
       "      <td>False</td>\n",
       "      <td>0.626664</td>\n",
       "    </tr>\n",
       "    <tr>\n",
       "      <th>3</th>\n",
       "      <td>False</td>\n",
       "      <td>0.398557</td>\n",
       "      <td>False</td>\n",
       "      <td>0.199278</td>\n",
       "    </tr>\n",
       "  </tbody>\n",
       "</table>\n",
       "</div>"
      ],
      "text/plain": [
       "  Bonferroni              FDR          \n",
       "      reject   p-value reject   p-value\n",
       "0       True  0.022814   True  0.022814\n",
       "1      False  1.000000  False  0.626664\n",
       "2      False  1.000000  False  0.626664\n",
       "3      False  0.398557  False  0.199278"
      ]
     },
     "execution_count": 4,
     "metadata": {},
     "output_type": "execute_result"
    }
   ],
   "source": [
    "from statsmodels.stats.multitest import multipletests\n",
    "\n",
    "rejects_bon, pvals_bon, _, _ = multipletests(p_vals, method='bonferroni')\n",
    "rejects_fdr, pvals_fdr, _, _ = multipletests(p_vals, method='fdr_bh')\n",
    "\n",
    "res = pd.DataFrame({0: rejects_bon, 1: pvals_bon, 2: rejects_fdr, 3: pvals_fdr})\n",
    "columns = [\n",
    "    ('Bonferroni', 'reject'), ('Bonferroni', 'p-value'), ('FDR', 'reject'), ('FDR', 'p-value')\n",
    "]\n",
    "res.columns = pd.MultiIndex.from_tuples(columns)\n",
    "res"
   ]
  },
  {
   "cell_type": "markdown",
   "metadata": {},
   "source": [
    "Obtained rejects are the same as ordinary (computed without adjustment)."
   ]
  },
  {
   "cell_type": "code",
   "execution_count": 5,
   "metadata": {},
   "outputs": [],
   "source": [
    "# fig, ax = plt.subplots(1, 1, figsize=(6, 5))\n",
    "# ax.plot()\n",
    "# plt.show()"
   ]
  },
  {
   "cell_type": "markdown",
   "metadata": {},
   "source": [
    "### Task 2: permutation test"
   ]
  },
  {
   "cell_type": "code",
   "execution_count": 6,
   "metadata": {},
   "outputs": [
    {
     "data": {
      "text/html": [
       "<div>\n",
       "<style scoped>\n",
       "    .dataframe tbody tr th:only-of-type {\n",
       "        vertical-align: middle;\n",
       "    }\n",
       "\n",
       "    .dataframe tbody tr th {\n",
       "        vertical-align: top;\n",
       "    }\n",
       "\n",
       "    .dataframe thead th {\n",
       "        text-align: right;\n",
       "    }\n",
       "</style>\n",
       "<table border=\"1\" class=\"dataframe\">\n",
       "  <thead>\n",
       "    <tr style=\"text-align: right;\">\n",
       "      <th></th>\n",
       "      <th>person</th>\n",
       "      <th>left</th>\n",
       "      <th>right</th>\n",
       "    </tr>\n",
       "  </thead>\n",
       "  <tbody>\n",
       "    <tr>\n",
       "      <th>0</th>\n",
       "      <td>A</td>\n",
       "      <td>17.5</td>\n",
       "      <td>17.6</td>\n",
       "    </tr>\n",
       "    <tr>\n",
       "      <th>1</th>\n",
       "      <td>B</td>\n",
       "      <td>18.4</td>\n",
       "      <td>18.5</td>\n",
       "    </tr>\n",
       "    <tr>\n",
       "      <th>2</th>\n",
       "      <td>C</td>\n",
       "      <td>16.2</td>\n",
       "      <td>15.9</td>\n",
       "    </tr>\n",
       "    <tr>\n",
       "      <th>3</th>\n",
       "      <td>D</td>\n",
       "      <td>14.5</td>\n",
       "      <td>14.9</td>\n",
       "    </tr>\n",
       "    <tr>\n",
       "      <th>4</th>\n",
       "      <td>E</td>\n",
       "      <td>13.5</td>\n",
       "      <td>13.7</td>\n",
       "    </tr>\n",
       "  </tbody>\n",
       "</table>\n",
       "</div>"
      ],
      "text/plain": [
       "  person  left  right\n",
       "0      A  17.5   17.6\n",
       "1      B  18.4   18.5\n",
       "2      C  16.2   15.9\n",
       "3      D  14.5   14.9\n",
       "4      E  13.5   13.7"
      ]
     },
     "execution_count": 6,
     "metadata": {},
     "output_type": "execute_result"
    }
   ],
   "source": [
    "df2 = pd.DataFrame({'person': ['A', 'B', 'C', 'D', 'E', 'F', 'G', 'H', 'I', 'J', 'K', 'L', 'M', 'N', 'O', 'P'], \n",
    "                    'left': [17.5, 18.4, 16.2, 14.5, 13.5, 18.9, 19.5, 21.1, 17.8, 16.8, 18.4, 17.3, 18.9, 16.4, 17.5, 15], \n",
    "                    'right': [17.6, 18.5, 15.9, 14.9, 13.7, 18.9, 19.5, 21.5, 18.5, 17.1, 18.9, 17.5, 19.5, 16.5, 17.4, 15.6]})\n",
    "df2.head()"
   ]
  },
  {
   "cell_type": "markdown",
   "metadata": {},
   "source": [
    "We are interested in comparing the length of left hands and rights from 16 individuals. \n",
    "\n",
    "1. Compare histograms for left and right hands length (0.5 points)\n",
    "2. Calculate independent samples permutation test (2 points)\n",
    "3. Draw scatter plot for left and right hands length (0.5 points)\n",
    "4. Calculate paires permutation test (2 points)\n",
    "5. Which test performs better in this case? Why? (1 point)"
   ]
  },
  {
   "cell_type": "markdown",
   "metadata": {},
   "source": [
    "1."
   ]
  },
  {
   "cell_type": "code",
   "execution_count": 7,
   "metadata": {},
   "outputs": [
    {
     "data": {
      "image/png": "[encoded data removed]",
      "text/plain": [
       "<Figure size 1152x432 with 2 Axes>"
      ]
     },
     "metadata": {
      "needs_background": "light"
     },
     "output_type": "display_data"
    }
   ],
   "source": [
    "fig, ax = plt.subplots(1, 2, figsize=(16, 6))\n",
    "df2.hist(['left', 'right'], ax=ax, bins=16)\n",
    "plt.show()"
   ]
  },
  {
   "cell_type": "markdown",
   "metadata": {},
   "source": [
    "2. Here I use permutation test as it is given in lectures, considering $m = n = 16$"
   ]
  },
  {
   "cell_type": "code",
   "execution_count": 8,
   "metadata": {},
   "outputs": [
    {
     "name": "stdout",
     "output_type": "stream",
     "text": [
      "p-value 0.638\n"
     ]
    }
   ],
   "source": [
    "left = df2['left'].values\n",
    "right = df2['right'].values\n",
    "both = np.concatenate([left, right])\n",
    "\n",
    "def perm_test(sample, m, n, n_perm=50000):\n",
    "    assert n + m == len(sample)\n",
    "    idx = range(len(sample))\n",
    "    Ts = np.empty(n_perm)\n",
    "    seen = set()\n",
    "    i = 0\n",
    "    while i < n_perm:\n",
    "        new_idx = np.random.permutation(idx).tolist()\n",
    "        if tuple(new_idx) not in seen:\n",
    "            seen.add(tuple(new_idx))\n",
    "            sample_ = sample[new_idx]\n",
    "            x = sample_[:n]\n",
    "            y = sample_[n:]\n",
    "            Ts[i] = np.mean(x) - np.mean(y)\n",
    "            i += 1\n",
    "        else:\n",
    "            continue\n",
    "    return Ts\n",
    "\n",
    "Ts = perm_test(both, 16, 16)\n",
    "\n",
    "print(f'p-value {np.mean(Ts > left.mean() - right.mean()):.3f}')"
   ]
  },
  {
   "cell_type": "markdown",
   "metadata": {},
   "source": [
    "3."
   ]
  },
  {
   "cell_type": "code",
   "execution_count": 9,
   "metadata": {},
   "outputs": [
    {
     "data": {
      "image/png": "[encoded data removed]",
      "text/plain": [
       "<Figure size 432x432 with 1 Axes>"
      ]
     },
     "metadata": {
      "needs_background": "light"
     },
     "output_type": "display_data"
    }
   ],
   "source": [
    "fig, ax = plt.subplots(1, 1, figsize=(6, 6))\n",
    "ax.scatter(df2['left'], df2['right'])\n",
    "ax.grid()\n",
    "ax.set_xlabel('Left length, cm')\n",
    "ax.set_ylabel('Right length, cm')\n",
    "plt.show()"
   ]
  },
  {
   "cell_type": "markdown",
   "metadata": {},
   "source": [
    "4. Here we consider $2^n$ possible swap variants of left and right length for each pair"
   ]
  },
  {
   "cell_type": "code",
   "execution_count": 10,
   "metadata": {},
   "outputs": [
    {
     "name": "stdout",
     "output_type": "stream",
     "text": [
      "p-value 0.998\n"
     ]
    }
   ],
   "source": [
    "Ts = list()\n",
    "for i in range(2**16):\n",
    "    i_bin = list(map(int, bin(i)[2:]))\n",
    "    i_bin = [0] * (16 - len(i_bin)) + i_bin\n",
    "    j = 0\n",
    "    sample = np.empty((16, 2))\n",
    "    for l, r in zip(left, right):\n",
    "        if i_bin[j] == 1:\n",
    "            sample[j] = r, l\n",
    "        else:\n",
    "            sample[j] = l, r\n",
    "        j += 1\n",
    "    Ts.append(sample[:,0].mean() - sample[:,1].mean())\n",
    "\n",
    "Ts = np.array(Ts)\n",
    "print(f'p-value {np.mean(Ts > left.mean() - right.mean()):.3f}')"
   ]
  },
  {
   "cell_type": "markdown",
   "metadata": {},
   "source": [
    "5. Paired test performs better here, as samples are indeed dependent, because lengths were measured at the same people"
   ]
  },
  {
   "cell_type": "markdown",
   "metadata": {},
   "source": [
    "### Task 3: computational approach to hypothesis testing"
   ]
  },
  {
   "cell_type": "markdown",
   "metadata": {},
   "source": [
    "Recommended reading: http://allendowney.blogspot.com/2016/06/there-is-still-only-one-test.html"
   ]
  },
  {
   "cell_type": "markdown",
   "metadata": {},
   "source": [
    "Consider the following dataset (service hours between failures of the air-conditioning equipment in a Boeing 727 jet aircraft , Proschan, 1963):"
   ]
  },
  {
   "cell_type": "code",
   "execution_count": 11,
   "metadata": {},
   "outputs": [],
   "source": [
    "Y = np.array([3, 5, 7, 18, 43, 85, 91, 98, 100, 130, 230, 487])"
   ]
  },
  {
   "cell_type": "markdown",
   "metadata": {},
   "source": [
    "This sample was sorted for easier presentation."
   ]
  },
  {
   "cell_type": "markdown",
   "metadata": {},
   "source": [
    "1. Compute an estimate of the median time between failures (1 point)\n",
    "2. Consider the null hypothesis $H_0$ to be: \"median time between failures is one week\" (1 point)\n",
    "3. What family of distributions will you choose for this kind of data under $H_0$? (1 point)\n",
    "4. Choose a test statistic to measure the deviation from $H_0$ (1 point)\n",
    "5. Check whether you can reject $H_0$ at significance level 5% and calculate the corresponding approximate $p$-value. Use 10,000 simulations for your experiment (1 point)\n",
    "6. Plot histogram of the simulated values of the test statistic and mark the observed value and threshold that you obtained (1 bouns point)"
   ]
  },
  {
   "cell_type": "markdown",
   "metadata": {},
   "source": [
    "1."
   ]
  },
  {
   "cell_type": "code",
   "execution_count": 12,
   "metadata": {},
   "outputs": [
    {
     "name": "stdout",
     "output_type": "stream",
     "text": [
      "Median: 88.0\n"
     ]
    }
   ],
   "source": [
    "median = np.median(Y)\n",
    "print(f'Median: {median}')"
   ]
  },
  {
   "cell_type": "markdown",
   "metadata": {},
   "source": [
    "2. 7 days = 168 hours\n",
    "\n",
    "$H_0 = \\{m=168\\}$"
   ]
  },
  {
   "cell_type": "markdown",
   "metadata": {},
   "source": [
    "3. Considering results of queuing theory, we may model failure times sequence with homogeneous Poisson process with parameter $\\lambda$. Then gaps between failures will belong to exponential distribution $Y \\sim \\text{Exp}(\\lambda)$ with density function $f_{Y}(t) = \\frac{1}{\\lambda}e^{-\\lambda t}$. As relation between parameter and median is $m = \\frac{\\ln 2}{\\lambda}$, then $Y \\sim \\text{Exp}(\\frac{\\ln 2}{m})$"
   ]
  },
  {
   "cell_type": "code",
   "execution_count": 13,
   "metadata": {},
   "outputs": [
    {
     "data": {
      "image/png": "[encoded data removed]",
      "text/plain": [
       "<Figure size 432x288 with 1 Axes>"
      ]
     },
     "metadata": {
      "needs_background": "light"
     },
     "output_type": "display_data"
    }
   ],
   "source": [
    "sample_distr_mle = sst.expon(scale=Y.mean())\n",
    "\n",
    "x = np.linspace(0, 500)\n",
    "plt.hist(Y, bins=12, density=True, label='Sample histogram')\n",
    "plt.plot(x, sample_distr_mle.pdf(x), label='MLE density estimate')\n",
    "plt.legend()\n",
    "plt.show()"
   ]
  },
  {
   "cell_type": "markdown",
   "metadata": {},
   "source": [
    "4. If $X_i \\sim \\text{Exp}(\\lambda)$, then $Z = \\sum_{i=1}^n X_i$ belongs to Erlang distribution $Z \\sim \\text{Erlang}(n, \\lambda)$. Its theoretical expected value equals to $\\frac{n}{\\lambda}$"
   ]
  },
  {
   "cell_type": "markdown",
   "metadata": {},
   "source": [
    "5. Hypothesis testing for given sample `Y`:"
   ]
  },
  {
   "cell_type": "markdown",
   "metadata": {},
   "source": [
    "$p$-value computation includes two tails of distribution of $Z$: left from minus infinity to $l$ and right from $r$ to infinity.\n",
    "$$\n",
    "p = \\int\\limits_{-\\infty}^{l} f_Z(x)dx + \\int\\limits_{r}^{+\\infty} f_Z(x)dx = F_Z(l) + 1 - F_Z(r),\n",
    "$$\n",
    "where $l$ and $r$ are statistic and value symmetric to it against expected value"
   ]
  },
  {
   "cell_type": "code",
   "execution_count": 14,
   "metadata": {},
   "outputs": [
    {
     "name": "stdout",
     "output_type": "stream",
     "text": [
      "Statistic 1297; p-value 0.050\n"
     ]
    },
    {
     "data": {
      "image/png": "[encoded data removed]",
      "text/plain": [
       "<Figure size 432x360 with 1 Axes>"
      ]
     },
     "metadata": {
      "needs_background": "light"
     },
     "output_type": "display_data"
    }
   ],
   "source": [
    "n = Y.size\n",
    "lambda0 = np.log(2) / 168\n",
    "zero_distr = sst.erlang(a=n, scale=1 / lambda0)\n",
    "theor_exp = n / lambda0\n",
    "\n",
    "def test_for_median(statistic=None, sample=None, input_sample=True):\n",
    "    if input_sample:\n",
    "        statistic = np.sum(sample)\n",
    "    if statistic < theor_exp:\n",
    "        l = statistic\n",
    "        r = 2 * theor_exp - l\n",
    "    else:\n",
    "        r = statistic\n",
    "        l = 2 * theor_exp - r\n",
    "    pvalue = 1 - zero_distr.cdf(r) + zero_distr.cdf(l)\n",
    "    return statistic, pvalue\n",
    "\n",
    "stat, p_val = test_for_median(sample=Y)\n",
    "print(f'Statistic {stat}; p-value {p_val:.3f}')\n",
    "\n",
    "fig, ax = plt.subplots(1, 1, figsize=(6, 5))\n",
    "x = np.linspace(0, 10000, 1000)\n",
    "ax.plot(x, zero_distr.pdf(x))\n",
    "x1 = np.linspace(0, stat)\n",
    "x2 = np.linspace(2*theor_exp - stat, 10000)\n",
    "ax.fill_between(x1, 0, zero_distr.pdf(x1), color=colors[1])\n",
    "ax.fill_between(x2, 0, zero_distr.pdf(x2), color=colors[1])\n",
    "ax.grid()\n",
    "plt.show()"
   ]
  },
  {
   "cell_type": "markdown",
   "metadata": {},
   "source": [
    "For given data $p$-value equals exactly 5\\%.\n",
    "\n",
    "Let's sample test statistics from distribution obtained above:"
   ]
  },
  {
   "cell_type": "code",
   "execution_count": 15,
   "metadata": {},
   "outputs": [],
   "source": [
    "stats = np.empty(10000)\n",
    "rejects = np.empty(10000, dtype='bool')\n",
    "pvals = np.empty(10000)\n",
    "for i in range(10000):\n",
    "    synth_stat = zero_distr.rvs()\n",
    "    _, p = test_for_median(statistic=synth_stat, input_sample=False)\n",
    "    stats[i] = synth_stat\n",
    "    pvals[i] = p\n",
    "    rejects[i] = p <= 0.05"
   ]
  },
  {
   "cell_type": "code",
   "execution_count": 16,
   "metadata": {},
   "outputs": [
    {
     "name": "stdout",
     "output_type": "stream",
     "text": [
      "Rejection rate on synthetic test statistics: 0.0498\n"
     ]
    }
   ],
   "source": [
    "print(f'Rejection rate on synthetic test statistics: {rejects.mean()}')"
   ]
  },
  {
   "cell_type": "markdown",
   "metadata": {},
   "source": [
    "6."
   ]
  },
  {
   "cell_type": "markdown",
   "metadata": {},
   "source": [
    "Among obatined statistics, let's find minimal and maximal values of cases when the hyppothesis is accepted -- thresholds"
   ]
  },
  {
   "cell_type": "code",
   "execution_count": 17,
   "metadata": {},
   "outputs": [],
   "source": [
    "res = np.stack([stats, pvals])\n",
    "accepted = res[:,res[1] > 0.05][0]\n",
    "bounds = [accepted.min(), accepted.max()]"
   ]
  },
  {
   "cell_type": "code",
   "execution_count": 18,
   "metadata": {},
   "outputs": [
    {
     "data": {
      "image/png": "[encoded data removed]",
      "text/plain": [
       "<Figure size 504x432 with 1 Axes>"
      ]
     },
     "metadata": {
      "needs_background": "light"
     },
     "output_type": "display_data"
    }
   ],
   "source": [
    "fig, ax = plt.subplots(1, 1, figsize=(7, 6))\n",
    "bins, _ ,_ = ax.hist(stats, bins=50)\n",
    "ax.vlines(stat, 0, bins.max(), color='#ff0000', label='observed value')\n",
    "ax.vlines(bounds, [0, 0], 2 * [bins.max()], color=colors[2])\n",
    "ax.hlines(bins.max(), *bounds, color=colors[2])\n",
    "ax.fill_between(bounds, 0, bins.max(), alpha=0.2, color=colors[2], label='acceptance domain')\n",
    "ax.grid()\n",
    "ax.legend()\n",
    "plt.show()"
   ]
  },
  {
   "cell_type": "markdown",
   "metadata": {},
   "source": [
    "Observed value is close to left threshold, but slightly less:"
   ]
  },
  {
   "cell_type": "code",
   "execution_count": 19,
   "metadata": {},
   "outputs": [
    {
     "name": "stdout",
     "output_type": "stream",
     "text": [
      "1297 1300.308\n"
     ]
    }
   ],
   "source": [
    "print(f'{stat} {bounds[0]:.3f}')"
   ]
  },
  {
   "cell_type": "markdown",
   "metadata": {},
   "source": [
    "### Task 4"
   ]
  },
  {
   "cell_type": "markdown",
   "metadata": {},
   "source": [
    "In 1861, 10 essays appeared in the New Orleans Daily Crescent. They\n",
    "were signed “Quintus Curtius Snodgrass” and some people suspected\n",
    "they were actually written by Mark Twain. To investigate this, we will\n",
    "consider the proportion of three letter words found in an author’s work.\n",
    "From eight Twain essays we have:"
   ]
  },
  {
   "cell_type": "code",
   "execution_count": 20,
   "metadata": {},
   "outputs": [],
   "source": [
    "X = np.array([.225, .262, .217, .240, .230, .229, .235, .217])"
   ]
  },
  {
   "cell_type": "markdown",
   "metadata": {},
   "source": [
    "From 10 Snodgrass essays we have:"
   ]
  },
  {
   "cell_type": "code",
   "execution_count": 21,
   "metadata": {},
   "outputs": [],
   "source": [
    "Y = np.array([.209, .205, .196, .210, .202, .207, .224, .223, .220, .201])"
   ]
  },
  {
   "cell_type": "markdown",
   "metadata": {},
   "source": [
    "1. Perform a Wald test for equality of the means. Use the nonparametric plug-in estimator. Report the $p$-value and a 95% confidence\n",
    "interval for the difference of means. What do you conclude? (1.5 points)\n",
    "2. Now use a permutation test to avoid the use of large sample methods.\n",
    "What is your conclusion? (Brinegar (1963)) (1.5 points)\n",
    "3. Assume that samples do indeed come from different populations. Additionally, observed sample means and variaces for the two samples are equal to the true values for the respective population. Estimate the power of the two tests above under two model distributions for the data: Normal and [Beta](https://en.wikipedia.org/wiki/Beta_distribution) (use the same family for both samples) (2 points)"
   ]
  },
  {
   "cell_type": "markdown",
   "metadata": {},
   "source": [
    "1."
   ]
  },
  {
   "cell_type": "code",
   "execution_count": 22,
   "metadata": {},
   "outputs": [
    {
     "name": "stdout",
     "output_type": "stream",
     "text": [
      "p-value: 7.993e-05\n",
      "Confidence interval for difference of means: [0.011, 0.033]\n"
     ]
    }
   ],
   "source": [
    "_, pval, (l, r) = wald_test_for_means(X, Y, return_confint=True)\n",
    "print(f'p-value: {pval:.3e}')\n",
    "print(f'Confidence interval for difference of means: [{l:.3f}, {r:.3f}]')"
   ]
  },
  {
   "cell_type": "markdown",
   "metadata": {},
   "source": [
    "Sample means significantly differ from each other"
   ]
  },
  {
   "cell_type": "markdown",
   "metadata": {},
   "source": [
    "2."
   ]
  },
  {
   "cell_type": "code",
   "execution_count": 23,
   "metadata": {},
   "outputs": [
    {
     "name": "stdout",
     "output_type": "stream",
     "text": [
      "Permutation test:\n",
      "p-value: 3.600e-04\n"
     ]
    }
   ],
   "source": [
    "both = np.concatenate([X, Y])\n",
    "Ts = perm_test(both, X.size, Y.size)\n",
    "p = np.mean(Ts > X.mean() - Y.mean())\n",
    "print('Permutation test:')\n",
    "print(f'p-value: {p:.3e}')"
   ]
  },
  {
   "cell_type": "markdown",
   "metadata": {},
   "source": [
    "In permutation test null hypothesis is rejected too"
   ]
  },
  {
   "cell_type": "markdown",
   "metadata": {},
   "source": [
    "3."
   ]
  },
  {
   "cell_type": "code",
   "execution_count": null,
   "metadata": {},
   "outputs": [],
   "source": []
  }
 ],
 "metadata": {
  "kernelspec": {
   "display_name": "Python 3",
   "language": "python",
   "name": "python3"
  },
  "language_info": {
   "codemirror_mode": {
    "name": "ipython",
    "version": 3
   },
   "file_extension": ".py",
   "mimetype": "text/x-python",
   "name": "python",
   "nbconvert_exporter": "python",
   "pygments_lexer": "ipython3",
   "version": "3.7.10"
  }
 },
 "nbformat": 4,
 "nbformat_minor": 4
}
